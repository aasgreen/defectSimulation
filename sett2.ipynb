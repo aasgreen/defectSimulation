{
 "cells": [
  {
   "cell_type": "markdown",
   "metadata": {},
   "source": [
    "# Importing packages"
   ]
  },
  {
   "cell_type": "markdown",
   "metadata": {},
   "source": [
    "Importing packages"
   ]
  },
  {
   "cell_type": "code",
   "execution_count": 1,
   "metadata": {},
   "outputs": [],
   "source": [
    "import os\n",
    "import sys\n",
    "import imp\n",
    "import time\n",
    "\n",
    "import warnings\n",
    "warnings.filterwarnings('ignore')"
   ]
  },
  {
   "cell_type": "code",
   "execution_count": 2,
   "metadata": {},
   "outputs": [],
   "source": [
    "def simulate(runName, numImages, imageDims, maxDefects, minDefects, decrossMin, decrossMax):\n",
    "\n",
    "    simString = 'simulations/randomDefects/runSim.py'\n",
    "    functionName = 'runSim'\n",
    "\n",
    "    home = os.getcwd()\n",
    "\n",
    "    print(\"Running Simulation\")\n",
    "\n",
    "    path, exFile = os.path.split(simString)\n",
    "    fullPath = os.path.join(home, path)\n",
    "    \n",
    "    sys.path.append(fullPath)\n",
    "    os.chdir(fullPath)\n",
    "\n",
    "    import runSim as sim\n",
    "\n",
    "    runSimulation = getattr(sim,functionName)\n",
    "\n",
    "    runSimulation(home, runName, numImages, imageDims, maxDefects, minDefects, decrossMin, decrossMax)\n",
    "\n",
    "    os.chdir(home)\n",
    "\n",
    "def extractSmartNoise(crop, cropManual, cropX, cropY):\n",
    "    \n",
    "    path = \"/smartNoise/\"\n",
    "    noiseSamplePath = \"/smartNoise/noiseSamples/\"\n",
    "    \n",
    "    home = os.getcwd()\n",
    "\n",
    "    print(\"Extracting Smart Noise\")\n",
    "    \n",
    "    functionPath = home + path\n",
    "    \n",
    "    noiseExtraction = imp.load_source('packages', os.path.join(functionPath,'noiseExtractor.py'))\n",
    "    \n",
    "    noiseExtraction.noiseExtractor(home, noiseSamplePath, crop, cropManual, cropX, cropY)"
   ]
  },
  {
   "cell_type": "code",
   "execution_count": 3,
   "metadata": {},
   "outputs": [],
   "source": [
    "runName = \"TestSimulation\"\n",
    "numImages = 30\n",
    "imageDims = [250, 200]\n",
    "maxDefects = 50\n",
    "minDefects = 10\n",
    "decrossMin = 50\n",
    "decrossMax = 50"
   ]
  },
  {
   "cell_type": "code",
   "execution_count": 4,
   "metadata": {},
   "outputs": [
    {
     "name": "stdout",
     "output_type": "stream",
     "text": [
      "Running Simulation\n",
      "Generating Defects\n",
      "Transfering defect.dat files\n",
      "Transfering out.dat files\n",
      "Generating Images\n",
      "Generating xml files\n",
      "Generating Simulation Annotated Images\n",
      "Done\n",
      "Simulation time for 30 images (in seconds): 15.034321546554565\n"
     ]
    }
   ],
   "source": [
    "startTime = time.time()\n",
    "\n",
    "simulate(runName, numImages, imageDims, maxDefects, minDefects, decrossMin, decrossMax)\n",
    "\n",
    "endTime = time.time()\n",
    "\n",
    "print(\"Simulation time for\", repr(numImages), \"images (in seconds):\", repr(endTime - startTime))"
   ]
  },
  {
   "cell_type": "code",
   "execution_count": 5,
   "metadata": {},
   "outputs": [],
   "source": [
    "crop = True\n",
    "cropManual = False\n",
    "cropX = [200,600] #sets the x crop limits if cropManual is no\n",
    "cropY = [200,600] #sets the x crop limits if cropManual is no"
   ]
  },
  {
   "cell_type": "code",
   "execution_count": 6,
   "metadata": {},
   "outputs": [
    {
     "name": "stdout",
     "output_type": "stream",
     "text": [
      "Extracting Smart Noise\n",
      "Noise extraction time: 0.09315180778503418\n"
     ]
    }
   ],
   "source": [
    "startTime = time.time()\n",
    "\n",
    "extractSmartNoise(crop, cropManual, cropX, cropY)\n",
    "\n",
    "endTime = time.time()\n",
    "\n",
    "print(\"Noise extraction time:\", repr(endTime - startTime))"
   ]
  }
 ],
 "metadata": {
  "kernelspec": {
   "display_name": "Python [conda env:SETT] *",
   "language": "python",
   "name": "conda-env-SETT-py"
  },
  "language_info": {
   "codemirror_mode": {
    "name": "ipython",
    "version": 3
   },
   "file_extension": ".py",
   "mimetype": "text/x-python",
   "name": "python",
   "nbconvert_exporter": "python",
   "pygments_lexer": "ipython3",
   "version": "3.6.10"
  }
 },
 "nbformat": 4,
 "nbformat_minor": 4
}
