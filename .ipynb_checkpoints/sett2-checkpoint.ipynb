{
 "cells": [
  {
   "cell_type": "markdown",
   "metadata": {},
   "source": [
    "# Importing packages"
   ]
  },
  {
   "cell_type": "markdown",
   "metadata": {},
   "source": [
    "Importing packages"
   ]
  },
  {
   "cell_type": "code",
   "execution_count": 1,
   "metadata": {},
   "outputs": [],
   "source": [
    "import os\n",
    "import sys\n",
    "import imp\n",
    "import time"
   ]
  },
  {
   "cell_type": "code",
   "execution_count": 2,
   "metadata": {},
   "outputs": [],
   "source": [
    "def simulate(runName, numImages, imageDims, maxDefects, minDefects, decrossMin, decrossMax):\n",
    "\n",
    "    simString = 'simulations/randomDefects/runSim.py'\n",
    "    functionName = 'runSim'\n",
    "\n",
    "    home = os.getcwd()\n",
    "\n",
    "    print(\"Running Simulation\")\n",
    "\n",
    "    path, exFile = os.path.split(simString)\n",
    "    fullPath = os.path.join(home, path)\n",
    "    \n",
    "    sys.path.append(fullPath)\n",
    "    os.chdir(home)\n",
    "\n",
    "    import simulations.randomDefects.runSim as sim\n",
    "\n",
    "    runSimulation = getattr(sim,functionName)\n",
    "\n",
    "    runSimulation(home, runName, numImages, imageDims, maxDefects, minDefects, decrossMin, decrossMax)\n",
    "\n",
    "    os.chdir(home)\n",
    "\n",
    "def extractSmartNoise():\n",
    "\n",
    "    print(\"Extracting Smart Noise\")\n",
    "\n",
    "    path = cfg['paths']['noiseExtractor']\n",
    "    noiseExtraction = imp.load_source('packages', os.path.join(path,'noiseExtractor.py'))\n",
    "    noiseExtraction.noiseExtractor(cfg)"
   ]
  },
  {
   "cell_type": "code",
   "execution_count": 3,
   "metadata": {},
   "outputs": [],
   "source": [
    "runName = \"TestSimulation\"\n",
    "numImages = 30\n",
    "imageDims = [250, 200]\n",
    "maxDefects = 50\n",
    "minDefects = 10\n",
    "decrossMin = 50\n",
    "decrossMax = 50"
   ]
  },
  {
   "cell_type": "code",
   "execution_count": 4,
   "metadata": {},
   "outputs": [
    {
     "name": "stdout",
     "output_type": "stream",
     "text": [
      "Running Simulation\n",
      "Generating Defects\n"
     ]
    },
    {
     "name": "stderr",
     "output_type": "stream",
     "text": [
      "E:\\Anaconda3\\envs\\SETT\\lib\\site-packages\\skimage\\util\\dtype.py:135: UserWarning: Possible precision loss when converting from float64 to uint8\n",
      "  .format(dtypeobj_in, dtypeobj_out))\n"
     ]
    },
    {
     "name": "stdout",
     "output_type": "stream",
     "text": [
      "Transfering defect.dat files\n",
      "Transfering out.dat files\n",
      "Generating Images\n",
      "Generating xml files\n",
      "Generating Simulation Annotated Images\n",
      "Done\n",
      "Simulation time for 30 images (in seconds): 17.882998943328857\n"
     ]
    }
   ],
   "source": [
    "startTime = time.time()\n",
    "\n",
    "simulate(runName, numImages, imageDims, maxDefects, minDefects, decrossMin, decrossMax)\n",
    "\n",
    "endTime = time.time()\n",
    "\n",
    "print(\"Simulation time for\", repr(numImages), \"images (in seconds):\", repr(endTime - startTime))"
   ]
  },
  {
   "cell_type": "code",
   "execution_count": null,
   "metadata": {},
   "outputs": [],
   "source": []
  },
  {
   "cell_type": "code",
   "execution_count": null,
   "metadata": {},
   "outputs": [],
   "source": []
  },
  {
   "cell_type": "code",
   "execution_count": null,
   "metadata": {},
   "outputs": [],
   "source": []
  }
 ],
 "metadata": {
  "kernelspec": {
   "display_name": "Python [conda env:SETT] *",
   "language": "python",
   "name": "conda-env-SETT-py"
  },
  "language_info": {
   "codemirror_mode": {
    "name": "ipython",
    "version": 3
   },
   "file_extension": ".py",
   "mimetype": "text/x-python",
   "name": "python",
   "nbconvert_exporter": "python",
   "pygments_lexer": "ipython3",
   "version": "3.6.10"
  }
 },
 "nbformat": 4,
 "nbformat_minor": 4
}
