{
 "cells": [
  {
   "cell_type": "markdown",
   "metadata": {},
   "source": [
    "# Importing packages"
   ]
  },
  {
   "cell_type": "markdown",
   "metadata": {},
   "source": [
    "### Importing packages"
   ]
  },
  {
   "cell_type": "code",
   "execution_count": 1,
   "metadata": {},
   "outputs": [],
   "source": [
    "import os\n",
    "import sys\n",
    "import imp\n",
    "import time\n",
    "\n",
    "import warnings\n",
    "warnings.filterwarnings('ignore')"
   ]
  },
  {
   "cell_type": "markdown",
   "metadata": {},
   "source": [
    "# Initialising functions"
   ]
  },
  {
   "cell_type": "code",
   "execution_count": 2,
   "metadata": {},
   "outputs": [],
   "source": [
    "def simulate(runName, numImages, imageDims, maxDefects, minDefects, decrossMin, decrossMax):\n",
    "\n",
    "    simString = 'simulations/randomDefects/runSim.py'\n",
    "    functionName = 'runSim'\n",
    "\n",
    "    home = os.getcwd() + \"/\"\n",
    "\n",
    "    print(\"Running Simulation\")\n",
    "\n",
    "    path, exFile = os.path.split(simString)\n",
    "    fullPath = os.path.join(home, path)\n",
    "    \n",
    "    sys.path.append(fullPath)\n",
    "    os.chdir(fullPath)\n",
    "\n",
    "    import runSim as sim\n",
    "\n",
    "    runSimulation = getattr(sim,functionName)\n",
    "\n",
    "    runSimulation(home, runName, numImages, imageDims, maxDefects, minDefects, decrossMin, decrossMax)\n",
    "\n",
    "    os.chdir(home)\n",
    "\n",
    "def extractSmartNoise(crop, cropManual, cropX, cropY):\n",
    "    \n",
    "    path = \"/smartNoise/\"\n",
    "    noiseSamplePath = \"/smartNoise/noiseSamples/\"\n",
    "    \n",
    "    home = os.getcwd()\n",
    "\n",
    "    print(\"Extracting Smart Noise\")\n",
    "    \n",
    "    functionPath = home + path\n",
    "    \n",
    "    noiseExtraction = imp.load_source('packages', os.path.join(functionPath,'noiseExtractor.py'))\n",
    "    \n",
    "    noiseExtraction.noiseExtractor(home, noiseSamplePath, crop, cropManual, cropX, cropY)\n",
    "    \n",
    "def enchanceImages(runName, imgMean, imgStd, gaussian, doSmartNoise, smartNoise, numCircles, addGrid, gridRange, stds):\n",
    "\n",
    "    print(\"Enhancing Simulation Images\")\n",
    "\n",
    "    # Home directory of sett2.\n",
    "    home = os.getcwd()\n",
    "\n",
    "    # Path to addArtifacts.py\n",
    "    path = home + \"/artifacts/\"\n",
    "\n",
    "    # Path to smart noise image files.\n",
    "    smartNoisePath = \"smartNoise/noiseSamples/noiseFiles\"\n",
    "\n",
    "    # Loading addArtifacts.py.\n",
    "    artifacts = imp.load_source('packages', os.path.join(path,'addArtifacts.py'))\n",
    "\n",
    "    # Calling function addArtifacts.\n",
    "    artifacts.addArtifacts(home, runName, imgMean, imgStd, gaussian, doSmartNoise, smartNoisePath, smartNoise, numCircles, addGrid, gridRange, stds)"
   ]
  },
  {
   "cell_type": "markdown",
   "metadata": {},
   "source": [
    "# Generating Simulation Images"
   ]
  },
  {
   "cell_type": "markdown",
   "metadata": {},
   "source": [
    "### Args"
   ]
  },
  {
   "cell_type": "code",
   "execution_count": 3,
   "metadata": {},
   "outputs": [],
   "source": [
    "runName = \"TestDevelopmentRun\"\n",
    "numImages = 5\n",
    "imageDims = [250, 200]\n",
    "maxDefects = 50\n",
    "minDefects = 10\n",
    "decrossMin = 50\n",
    "decrossMax = 50"
   ]
  },
  {
   "cell_type": "markdown",
   "metadata": {},
   "source": [
    "### Running Code"
   ]
  },
  {
   "cell_type": "code",
   "execution_count": 4,
   "metadata": {},
   "outputs": [
    {
     "name": "stdout",
     "output_type": "stream",
     "text": [
      "Running Simulation\n",
      "Generating Defects\n",
      "Transfering defect.dat files\n",
      "Transfering out.dat files\n",
      "Generating Images\n",
      "Generating xml files\n",
      "Generating Simulation Annotated Images\n",
      "Done\n",
      "Simulation time for 5 images (in seconds): 5.902422666549683\n"
     ]
    }
   ],
   "source": [
    "startTime = time.time()\n",
    "\n",
    "simulate(runName, numImages, imageDims, maxDefects, minDefects, decrossMin, decrossMax)\n",
    "\n",
    "endTime = time.time()\n",
    "\n",
    "print(\"Simulation time for\", repr(numImages), \"images (in seconds):\", repr(endTime - startTime))"
   ]
  },
  {
   "cell_type": "markdown",
   "metadata": {},
   "source": [
    "# Extracting Smart Noise"
   ]
  },
  {
   "cell_type": "markdown",
   "metadata": {},
   "source": [
    "### Args"
   ]
  },
  {
   "cell_type": "code",
   "execution_count": 5,
   "metadata": {},
   "outputs": [],
   "source": [
    "crop = True\n",
    "cropManual = False\n",
    "cropX = [200,600] #sets the x crop limits if cropManual is no\n",
    "cropY = [200,600] #sets the x crop limits if cropManual is no"
   ]
  },
  {
   "cell_type": "markdown",
   "metadata": {},
   "source": [
    "### Running Code"
   ]
  },
  {
   "cell_type": "code",
   "execution_count": 6,
   "metadata": {},
   "outputs": [
    {
     "name": "stdout",
     "output_type": "stream",
     "text": [
      "Extracting Smart Noise\n",
      "Noise extraction time: 0.07752084732055664\n"
     ]
    }
   ],
   "source": [
    "startTime = time.time()\n",
    "\n",
    "extractSmartNoise(crop, cropManual, cropX, cropY)\n",
    "\n",
    "endTime = time.time()\n",
    "\n",
    "print(\"Noise extraction time:\", repr(endTime - startTime))"
   ]
  },
  {
   "cell_type": "markdown",
   "metadata": {},
   "source": [
    "# Enchancing Simulation Images"
   ]
  },
  {
   "cell_type": "markdown",
   "metadata": {},
   "source": [
    "### Args"
   ]
  },
  {
   "cell_type": "code",
   "execution_count": 7,
   "metadata": {},
   "outputs": [],
   "source": [
    "imgMeanMin = 0.3\n",
    "imgMeanMax = 0.7\n",
    "imgMean = [imgMeanMin, imgMeanMax]\n",
    "\n",
    "imgStdMin = 1\n",
    "imgStdMax = 24\n",
    "imgStd = [imgStdMin, imgStdMax]\n",
    "\n",
    "gaussianMin = 0 # in units of sigma\n",
    "gaussianMax = 1.5\n",
    "gaussian = [gaussianMin, gaussianMax]\n",
    "\n",
    "doSmartNoise = True # yes if you wish to add smart noise extracted from real images\n",
    "smartNoiseMin = 0.3\n",
    "smartNoiseMax = 2.5\n",
    "smartNoise = [smartNoiseMin, smartNoiseMax]\n",
    "\n",
    "numCircles = 3 # overlays circles of random brightness on images. 0 to not add in circles\n",
    "\n",
    "addGrid = True # splits images into four random quadrants, which each have their brightness randomly changed\n",
    "\n",
    "gridRange = 0.5 # range over which a quadrant can be brightened or dimmed\n",
    "\n",
    "stds = 6 # Dynamic range of standardised image"
   ]
  },
  {
   "cell_type": "markdown",
   "metadata": {},
   "source": [
    "### Running Code"
   ]
  },
  {
   "cell_type": "code",
   "execution_count": 8,
   "metadata": {},
   "outputs": [
    {
     "name": "stdout",
     "output_type": "stream",
     "text": [
      "Enhancing Simulation Images\n",
      "Adding Artifacts\n",
      "Simulation enchance time: 0.6389594078063965\n"
     ]
    }
   ],
   "source": [
    "startTime = time.time()\n",
    "enchanceImages(runName, imgMean, imgStd, gaussian, doSmartNoise, smartNoise, numCircles, addGrid, gridRange, stds)\n",
    "endTime = time.time()\n",
    "\n",
    "print(\"Simulation enchance time:\", repr(endTime - startTime))"
   ]
  }
 ],
 "metadata": {
  "kernelspec": {
   "display_name": "Python [conda env:SETT] *",
   "language": "python",
   "name": "conda-env-SETT-py"
  },
  "language_info": {
   "codemirror_mode": {
    "name": "ipython",
    "version": 3
   },
   "file_extension": ".py",
   "mimetype": "text/x-python",
   "name": "python",
   "nbconvert_exporter": "python",
   "pygments_lexer": "ipython3",
   "version": "3.6.10"
  }
 },
 "nbformat": 4,
 "nbformat_minor": 4
}
